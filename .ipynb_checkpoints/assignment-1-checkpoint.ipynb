{
 "cells": [
  {
   "cell_type": "markdown",
   "id": "4d9c9716",
   "metadata": {},
   "source": [
    "1.  What is Software?"
   ]
  },
  {
   "cell_type": "markdown",
   "id": "65143ea4",
   "metadata": {},
   "source": [
    "->Software is a set of instructions, data or programs used to operate computers and execute specific tasks. It is the opposite of hardware, which describes the physical aspects of a computer. Software is a generic term used to refer to applications, scripts and programs that run on a device. It can be thought of as the variable part of a computer, while hardware is the invariable part."
   ]
  },
  {
   "cell_type": "markdown",
   "id": "7d31575d",
   "metadata": {},
   "source": [
    "2. What are the types of Applications?"
   ]
  },
  {
   "cell_type": "markdown",
   "id": "ddc8737a",
   "metadata": {},
   "source": [
    "->There are 2 types of applications:\n",
    "\n",
    "    1.Standalone Apps\n",
    "    2.Web Application\n",
    "      \n",
    "        1.Standalone apps:-The application we are installing on our computer is called a standalone application.\n",
    "        2.Web Application:-Without installing any software, we are working with the software called a web application."
   ]
  },
  {
   "cell_type": "markdown",
   "id": "7be61022",
   "metadata": {},
   "source": [
    "3. What is programing?"
   ]
  },
  {
   "cell_type": "markdown",
   "id": "90b6c624",
   "metadata": {},
   "source": [
    "-> programming is a task to implement a solution to a problem in the form of computer language. In this section."
   ]
  },
  {
   "cell_type": "markdown",
   "id": "ec7cd85f",
   "metadata": {},
   "source": [
    "4.What is Python?"
   ]
  },
  {
   "cell_type": "markdown",
   "id": "80e544a2",
   "metadata": {},
   "source": [
    "->Python is an interpreted, object-oriented, high-level programming language with dynamic semantics. Its high-level built in data structures, combined with dynamic typing and dynamic binding, make it very attractive for Rapid Application Development, as well as for use as a scripting or glue language to connect existing components together. Python's simple, easy to learn syntax emphasizes readability and therefore reduces the cost of program maintenance. Python supports modules and packages, which encourages program modularity and code reuse. The Python interpreter and the extensive standard library are available in source or binary form without charge for all major platforms, and can be freely distributed."
   ]
  },
  {
   "cell_type": "code",
   "execution_count": null,
   "id": "fc143042",
   "metadata": {},
   "outputs": [],
   "source": []
  }
 ],
 "metadata": {
  "kernelspec": {
   "display_name": "Python 3",
   "language": "python",
   "name": "python3"
  },
  "language_info": {
   "codemirror_mode": {
    "name": "ipython",
    "version": 3
   },
   "file_extension": ".py",
   "mimetype": "text/x-python",
   "name": "python",
   "nbconvert_exporter": "python",
   "pygments_lexer": "ipython3",
   "version": "3.8.8"
  }
 },
 "nbformat": 4,
 "nbformat_minor": 5
}
