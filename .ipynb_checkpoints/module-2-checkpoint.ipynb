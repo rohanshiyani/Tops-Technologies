{
 "cells": [
  {
   "cell_type": "markdown",
   "id": "761d258a",
   "metadata": {},
   "source": [
    "1. Write a Python program to check if a number is positive, negative or Zero."
   ]
  },
  {
   "cell_type": "code",
   "execution_count": 10,
   "id": "6d9457cd",
   "metadata": {},
   "outputs": [
    {
     "name": "stdout",
     "output_type": "stream",
     "text": [
      "enter the number:0\n",
      "the given number is zero\n"
     ]
    }
   ],
   "source": [
    "a=float(input(\"enter the number:\"))\n",
    "if a>0:\n",
    "    print(\"the given number is positive\")\n",
    "elif a==0:\n",
    "    print(\"the given number is zero\")\n",
    "else:\n",
    "    print(\"the given number is negative\")"
   ]
  },
  {
   "cell_type": "markdown",
   "id": "711f148c",
   "metadata": {},
   "source": [
    "2.Write a Python program to get the Factorial number of given number."
   ]
  },
  {
   "cell_type": "code",
   "execution_count": 3,
   "id": "8049a4ef",
   "metadata": {},
   "outputs": [
    {
     "name": "stdout",
     "output_type": "stream",
     "text": [
      "the factorial of 5 is 1\n",
      "the factorial of 5 is 2\n",
      "the factorial of 5 is 6\n",
      "the factorial of 5 is 24\n",
      "the factorial of 5 is 120\n"
     ]
    }
   ],
   "source": [
    "num=5\n",
    "factorial=1\n",
    "if num<0:\n",
    "    print(\"factorial does not exist for negative nhymbers\")\n",
    "elif num==0:\n",
    "    print(\"the factorial of 0 is 1\")\n",
    "else:\n",
    "    for i in range(1,num+1):\n",
    "        factorial = factorial*i\n",
    "        print(\"the factorial of\",num,\"is\",factorial)"
   ]
  },
  {
   "cell_type": "markdown",
   "id": "5d1bf5f1",
   "metadata": {},
   "source": [
    "3.Write a Python program to get the Fibonacci series of given range."
   ]
  },
  {
   "cell_type": "code",
   "execution_count": 4,
   "id": "d986da05",
   "metadata": {},
   "outputs": [
    {
     "name": "stdout",
     "output_type": "stream",
     "text": [
      "0112358132134"
     ]
    }
   ],
   "source": [
    "a=0\n",
    "b=1\n",
    "c=0\n",
    "for i in range(0,10):\n",
    "    print(c,end=\"\")\n",
    "    a=b\n",
    "    b=c\n",
    "    c=a+b"
   ]
  },
  {
   "cell_type": "markdown",
   "id": "51c9f7f4",
   "metadata": {},
   "source": [
    "4. How memory is managed in Python?"
   ]
  },
  {
   "cell_type": "markdown",
   "id": "7fd5b6ec",
   "metadata": {},
   "source": [
    "->According to the Python memory management documentation, Python has a private heap that stores our program’s objects and data structures. Python memory manager takes care of the bulk of the memory management work and allows us to concentrate on our code."
   ]
  },
  {
   "cell_type": "markdown",
   "id": "81e00cad",
   "metadata": {},
   "source": [
    "5.What is the purpose continue statement in python?"
   ]
  },
  {
   "cell_type": "markdown",
   "id": "639ee29b",
   "metadata": {},
   "source": [
    "->Python Continue statement is a loop control statement that forces to execute the next iteration of the loop while skipping\n",
    "  the rest of the code inside the loop for the current iteration only, i.e. when the continue statement is executed in the \n",
    "  loop, the code inside the loop following the continue statement will be skipped for the current iteration and the next\n",
    "  iteration of the loop will begin."
   ]
  },
  {
   "cell_type": "markdown",
   "id": "a7e50635",
   "metadata": {},
   "source": [
    "6.Write python program that swap two number with temp variable and without temp variable."
   ]
  },
  {
   "cell_type": "code",
   "execution_count": 5,
   "id": "f4ad1a6f",
   "metadata": {},
   "outputs": [
    {
     "name": "stdout",
     "output_type": "stream",
     "text": [
      "The value of x after swapping: 10\n",
      "The value of y after swapping: 5\n"
     ]
    }
   ],
   "source": [
    "#using temp variable\n",
    "x = 5\n",
    "y = 10\n",
    "\n",
    "temp = x\n",
    "x = y\n",
    "y = temp\n",
    "\n",
    "print('The value of x after swapping: {}'.format(x))\n",
    "print('The value of y after swapping: {}'.format(y))"
   ]
  },
  {
   "cell_type": "code",
   "execution_count": 6,
   "id": "9d59f707",
   "metadata": {},
   "outputs": [
    {
     "name": "stdout",
     "output_type": "stream",
     "text": [
      "The value of x after swapping: 10\n",
      "The value of y after swapping: 5\n"
     ]
    }
   ],
   "source": [
    "# without temp variable\n",
    "x = 5\n",
    "y = 10\n",
    "x=x+y\n",
    "y=x-y\n",
    "x=x-y\n",
    "\n",
    "print('The value of x after swapping: {}'.format(x))\n",
    "print('The value of y after swapping: {}'.format(y))"
   ]
  },
  {
   "cell_type": "markdown",
   "id": "e3331e7c",
   "metadata": {},
   "source": [
    "7.Write a Python program to find whether a given number is even or odd,print out an appropriate message to the user.\n"
   ]
  },
  {
   "cell_type": "code",
   "execution_count": 7,
   "id": "f504740f",
   "metadata": {},
   "outputs": [
    {
     "name": "stdout",
     "output_type": "stream",
     "text": [
      "Enter a number: 5\n",
      "5 is Odd\n"
     ]
    }
   ],
   "source": [
    "num = int(input(\"Enter a number: \"))\n",
    "if (num % 2) == 0:\n",
    "   print(\"{0} is Even\".format(num))\n",
    "else:\n",
    "   print(\"{0} is Odd\".format(num))"
   ]
  },
  {
   "cell_type": "markdown",
   "id": "31237e6e",
   "metadata": {},
   "source": [
    "8.Write a Python program to test whether a passed letter is a vowel or not."
   ]
  },
  {
   "cell_type": "code",
   "execution_count": 7,
   "id": "85ec7020",
   "metadata": {},
   "outputs": [
    {
     "name": "stdout",
     "output_type": "stream",
     "text": [
      "enter the letter:a\n",
      "It is a vowel\n"
     ]
    }
   ],
   "source": [
    "letter=input(\"enter the letter:\")\n",
    "vowel = ('a','e','i','o','u','A','E','I','O','U')\n",
    "if letter in vowel:\n",
    "    print (\"It is a vowel\")\n",
    "else:\n",
    "    print (\"it is not vowel\")"
   ]
  },
  {
   "cell_type": "markdown",
   "id": "a31ac791",
   "metadata": {},
   "source": [
    "9.Write a Python program to sum of three given integers. However, if two values are equal sum will be zero.\n"
   ]
  },
  {
   "cell_type": "code",
   "execution_count": 19,
   "id": "9f0d7044",
   "metadata": {},
   "outputs": [
    {
     "name": "stdout",
     "output_type": "stream",
     "text": [
      "enter first value:2\n",
      "enter second value:5\n",
      "enter third value:6\n",
      "the sum is: 13\n"
     ]
    }
   ],
   "source": [
    "a=int(input(\"enter first value:\"))\n",
    "b=int(input(\"enter second value:\"))\n",
    "c=int(input(\"enter third value:\"))\n",
    "sum=0\n",
    "if a==b or b==c or c==a:\n",
    "    print(sum)\n",
    "else:\n",
    "    sum1=a+b+c\n",
    "    print(\"the sum is:\",sum1)"
   ]
  },
  {
   "cell_type": "markdown",
   "id": "0fcec494",
   "metadata": {},
   "source": [
    "10.Write a Python program that will return true if the two given integer values are equal or their sum or difference is 5."
   ]
  },
  {
   "cell_type": "code",
   "execution_count": 23,
   "id": "b5dcdcbe",
   "metadata": {},
   "outputs": [
    {
     "name": "stdout",
     "output_type": "stream",
     "text": [
      "enter the first value:2\n",
      "enter the second value:3\n",
      "True\n"
     ]
    }
   ],
   "source": [
    "a=int(input(\"enter the first value:\"))\n",
    "b=int(input(\"enter the second value:\"))\n",
    "if a==b or a+b==5 or a-b==5:\n",
    "    print(\"True\")\n",
    "else:\n",
    "    print(\"False\")"
   ]
  },
  {
   "cell_type": "markdown",
   "id": "3cc32e26",
   "metadata": {},
   "source": [
    "11.Write a python program to sum of the first n positive integers."
   ]
  },
  {
   "cell_type": "code",
   "execution_count": 25,
   "id": "268afb58",
   "metadata": {},
   "outputs": [
    {
     "name": "stdout",
     "output_type": "stream",
     "text": [
      "enter a integer number:5\n",
      "the sum of 5 is 15.0\n"
     ]
    }
   ],
   "source": [
    "a=int(input(\"enter a integer number:\"))\n",
    "sum1=(a*(a+1))/2\n",
    "print(\"the sum of\",a,\"is\",sum1)"
   ]
  },
  {
   "cell_type": "markdown",
   "id": "db60c63f",
   "metadata": {},
   "source": [
    "12.Write a Python program to calculate the length of a string."
   ]
  },
  {
   "cell_type": "code",
   "execution_count": 26,
   "id": "42e22536",
   "metadata": {},
   "outputs": [
    {
     "name": "stdout",
     "output_type": "stream",
     "text": [
      "enter a string:rohan\n",
      "5\n"
     ]
    }
   ],
   "source": [
    "a=str(input(\"enter a string:\"))\n",
    "print(len(a))"
   ]
  },
  {
   "cell_type": "markdown",
   "id": "7f86b1c5",
   "metadata": {},
   "source": [
    "13.Write a Python program to count the number of characters (character frequency) in a string."
   ]
  },
  {
   "cell_type": "code",
   "execution_count": 1,
   "id": "b249808a",
   "metadata": {},
   "outputs": [
    {
     "name": "stdout",
     "output_type": "stream",
     "text": [
      "Count of all characters in GeeksforGeeks is :\n",
      " {'G': 2, 'e': 4, 'k': 2, 's': 2, 'f': 1, 'o': 1, 'r': 1}\n"
     ]
    }
   ],
   "source": [
    "\n",
    "string1 = \"GeeksforGeeks\"\n",
    "frequency = {}\n",
    "\n",
    "for i in string1:\n",
    "    if i in frequency:\n",
    "        frequency[i] += 1\n",
    "    else:\n",
    "        frequency[i] = 1\n",
    "\n",
    "print(\"Count of all characters in GeeksforGeeks is :\\n \"+ str(frequency))\n"
   ]
  },
  {
   "cell_type": "markdown",
   "id": "00f945e9",
   "metadata": {},
   "source": [
    "14.What are negative indexes and why are they used?"
   ]
  },
  {
   "cell_type": "markdown",
   "id": "cd5430fb",
   "metadata": {},
   "source": [
    "->The negative index is used to remove any new-line spaces from the string and allow the string to except the last character       that is given as S[:-1]. The negative index is also used to show the index to represent the string in correct order."
   ]
  },
  {
   "cell_type": "markdown",
   "id": "cc13488e",
   "metadata": {},
   "source": [
    "15.Write a Python program to count occurrences of a substring in a string."
   ]
  },
  {
   "cell_type": "code",
   "execution_count": 4,
   "id": "f27b7c64",
   "metadata": {},
   "outputs": [
    {
     "name": "stdout",
     "output_type": "stream",
     "text": [
      "2\n"
     ]
    }
   ],
   "source": [
    "str1 = 'The quick brown fox jumps over the lazy dog fox.'\n",
    "print(str1.count(\"fox\"))"
   ]
  },
  {
   "cell_type": "markdown",
   "id": "348d2a20",
   "metadata": {},
   "source": [
    "16.Write a Python program to count the occurrences of each word in a given sentence."
   ]
  },
  {
   "cell_type": "code",
   "execution_count": 8,
   "id": "29bb946d",
   "metadata": {},
   "outputs": [
    {
     "name": "stdout",
     "output_type": "stream",
     "text": [
      "Enter string:hello world\n",
      "Enter word:hello\n",
      "Count of the word is:\n",
      "1\n"
     ]
    }
   ],
   "source": [
    "string=input(\"Enter string:\")\n",
    "word=input(\"Enter word:\")\n",
    "a=[]\n",
    "count=0\n",
    "a=string.split(\" \")\n",
    "for i in range(0,len(a)):\n",
    "      if(word==a[i]):\n",
    "            count=count+1\n",
    "print(\"Count of the word is:\")\n",
    "print(count)"
   ]
  },
  {
   "cell_type": "markdown",
   "id": "185886a3",
   "metadata": {},
   "source": [
    "17.Write a Python program to get a single string from two given strings,separated by a space and swap the first two characters of each string."
   ]
  },
  {
   "cell_type": "code",
   "execution_count": 9,
   "id": "6fab3b78",
   "metadata": {},
   "outputs": [
    {
     "name": "stdout",
     "output_type": "stream",
     "text": [
      "Before Swap : abc   xyz\n",
      "After Swap : xyc   abz\n"
     ]
    }
   ],
   "source": [
    "a = 'abc'\n",
    "b = 'xyz'\n",
    "print(\"Before Swap :\",a,\" \",b)\n",
    "a1 = b[:2] + a[2:]\n",
    "b1 = a[:2] + b[2:]\n",
    "print(\"After Swap :\",a1,\" \",b1)"
   ]
  },
  {
   "cell_type": "markdown",
   "id": "b60faf4a",
   "metadata": {},
   "source": [
    "18.Write a Python program to add 'ing' at the end of a given string (length should be at least 3). If the given string already ends with 'ing' then add 'ly' instead if the string length of the given string is less than 3, leave it unchanged"
   ]
  },
  {
   "cell_type": "code",
   "execution_count": 11,
   "id": "94619378",
   "metadata": {},
   "outputs": [
    {
     "name": "stdout",
     "output_type": "stream",
     "text": [
      "raching\n",
      "rachingly\n"
     ]
    }
   ],
   "source": [
    "string = input()\n",
    "if len(string) < 3:\n",
    "  print(string)\n",
    "elif string[-3:] == 'ing':\n",
    "  print(string + 'ly')\n",
    "else:\n",
    "  print(string + 'ing')"
   ]
  },
  {
   "cell_type": "markdown",
   "id": "d1637ace",
   "metadata": {},
   "source": [
    "19.Write a Python program to find the first appearance of the substring 'not' and 'poor' from a given string, if 'not' follows the 'poor', replace the whole 'not'...'poor' substring with 'good'. Return the resulting string."
   ]
  },
  {
   "cell_type": "code",
   "execution_count": 13,
   "id": "d117edeb",
   "metadata": {},
   "outputs": [
    {
     "name": "stdout",
     "output_type": "stream",
     "text": [
      "Enter a string that is poor\n",
      "-1 8\n",
      "that is poor\n"
     ]
    }
   ],
   "source": [
    "a = input('Enter a string ')\n",
    "b=a\n",
    "c=d=0\n",
    "c = a.find('not')\n",
    "d = a.find('poor')\n",
    "print(c,d)\n",
    "if(c>=0 and d>=0):\n",
    "    b = b.replace(b[c:d+4],'good')\n",
    "print(b)"
   ]
  },
  {
   "cell_type": "markdown",
   "id": "d61e6a82",
   "metadata": {},
   "source": [
    "20.Write a Python function that takes a list of words and returns the length of the longest one."
   ]
  },
  {
   "cell_type": "code",
   "execution_count": 15,
   "id": "570f6566",
   "metadata": {},
   "outputs": [
    {
     "name": "stdout",
     "output_type": "stream",
     "text": [
      "enter the total number of strings :5\n",
      "enter some random string or word :\n",
      "hello\n",
      "enter some random string or word :\n",
      "i am\n",
      "enter some random string or word :\n",
      "rohan\n",
      "enter some random string or word :\n",
      "from\n",
      "enter some random string or word :\n",
      "surat\n",
      "Printing the longest length word :\n",
      "hello\n"
     ]
    }
   ],
   "source": [
    "listWords = []\n",
    "numb = int(input(\"enter the total number of strings :\"))\n",
    "for i in range(numb):\n",
    "    elem = input(\"enter some random string or word :\\n\")\n",
    "    listWords.append(elem)\n",
    "maxLength = len(listWords[0])\n",
    "word = listWords[0]\n",
    "for i in listWords:\n",
    "    if(len(i) > maxLength):\n",
    "        maxLength = len(i)\n",
    "        word = i\n",
    "print(\"Printing the longest length word :\")\n",
    "print(word)"
   ]
  },
  {
   "cell_type": "markdown",
   "id": "067d7698",
   "metadata": {},
   "source": [
    "21.Write a Python function to reverses a string if its length is a multiple of 4."
   ]
  },
  {
   "cell_type": "code",
   "execution_count": 16,
   "id": "7d6ca7d4",
   "metadata": {},
   "outputs": [
    {
     "name": "stdout",
     "output_type": "stream",
     "text": [
      "The original string is :  Geeksforgeeks\n",
      "The reversed string(using reversed) is :  skeegrofskeeG\n"
     ]
    }
   ],
   "source": [
    "def reverse(string):\n",
    "    string = list(string)\n",
    "    string.reverse()\n",
    "    return \"\".join(string)\n",
    "\n",
    "s = \"Geeksforgeeks\"\n",
    "\n",
    "print(\"The original string is : \", s)\n",
    "\n",
    "print(\"The reversed string(using reversed) is : \", reverse(s))"
   ]
  },
  {
   "cell_type": "markdown",
   "id": "5e89b274",
   "metadata": {},
   "source": [
    "22.Write a Python program to get a string made of the first 2 and the last 2 chars from a given a string. If the string length is less than 2, return instead of the empty string."
   ]
  },
  {
   "cell_type": "code",
   "execution_count": 17,
   "id": "b01fdec0",
   "metadata": {},
   "outputs": [
    {
     "name": "stdout",
     "output_type": "stream",
     "text": [
      "Enter string:rohan\n",
      "Newly formed string is:\n",
      "roan\n"
     ]
    }
   ],
   "source": [
    "string=input(\"Enter string:\")\n",
    "count=0\n",
    "for i in string:\n",
    "      count=count+1\n",
    "new=string[0:2]+string[count-2:count]\n",
    "print(\"Newly formed string is:\")\n",
    "print(new)"
   ]
  },
  {
   "cell_type": "markdown",
   "id": "36ba80d9",
   "metadata": {},
   "source": [
    "23.Write a Python function to insert a string in the middle of a string.\n"
   ]
  },
  {
   "cell_type": "code",
   "execution_count": 18,
   "id": "51574516",
   "metadata": {},
   "outputs": [
    {
     "name": "stdout",
     "output_type": "stream",
     "text": [
      "[[Python]]\n"
     ]
    }
   ],
   "source": [
    "def insert_sting_middle(str, word):\n",
    "    return str[:2] + word + str[2:]\n",
    "\n",
    "print(insert_sting_middle('[[]]', 'Python'))"
   ]
  },
  {
   "cell_type": "code",
   "execution_count": null,
   "id": "18c92568",
   "metadata": {},
   "outputs": [],
   "source": []
  }
 ],
 "metadata": {
  "kernelspec": {
   "display_name": "Python 3",
   "language": "python",
   "name": "python3"
  },
  "language_info": {
   "codemirror_mode": {
    "name": "ipython",
    "version": 3
   },
   "file_extension": ".py",
   "mimetype": "text/x-python",
   "name": "python",
   "nbconvert_exporter": "python",
   "pygments_lexer": "ipython3",
   "version": "3.8.8"
  }
 },
 "nbformat": 4,
 "nbformat_minor": 5
}
