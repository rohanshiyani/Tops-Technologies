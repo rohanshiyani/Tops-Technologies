{
 "cells": [
  {
   "cell_type": "markdown",
   "id": "759c9bcb",
   "metadata": {},
   "source": [
    "1.What is List? How will you reverse a list? "
   ]
  },
  {
   "cell_type": "markdown",
   "id": "bc1b2620",
   "metadata": {},
   "source": [
    "->Python Lists are just like dynamically sized arrays, declared in other languages (vector in C++ and ArrayList in Java). In simple language, a list is a collection of things, enclosed in [ ] and separated by commas. Using reversed() we can reverse the list and a list_reverseiterator object is created, from which we can create a list using list() type casting. Or, we can also use list.reverse() function to reverse list in-place."
   ]
  },
  {
   "cell_type": "markdown",
   "id": "8fe9dab0",
   "metadata": {},
   "source": [
    "2.How will you remove last object from a list? \n",
    "  Suppose list1 is [2, 33, 222, 14, and 25], what is list1 [-1]?"
   ]
  },
  {
   "cell_type": "code",
   "execution_count": 8,
   "id": "8763bb4c",
   "metadata": {},
   "outputs": [
    {
     "name": "stdout",
     "output_type": "stream",
     "text": [
      "[2, 33, 222, 14]\n",
      "14\n"
     ]
    }
   ],
   "source": [
    "list1 = [2, 33, 222, 14, 25]\n",
    "list1.pop(-1)\n",
    "print(list1)\n",
    "print(list1[-1])"
   ]
  },
  {
   "cell_type": "markdown",
   "id": "0f33e4ff",
   "metadata": {},
   "source": [
    "3.Differentiate between append () and extend () methods? "
   ]
  },
  {
   "cell_type": "markdown",
   "id": "a77eadfa",
   "metadata": {},
   "source": [
    "->The append () can add a single elements to the end of the list while extend () can add argument-list’s all elements to the end of the list. After append (), the length of the list will increase by 1 element only while after extend (), the length of the list will increase by the length of inserted list."
   ]
  },
  {
   "cell_type": "markdown",
   "id": "d418e732",
   "metadata": {},
   "source": [
    "4.Write a Python function to get the largest number, smallest num and sum of all from a list. "
   ]
  },
  {
   "cell_type": "code",
   "execution_count": 15,
   "id": "47426216",
   "metadata": {},
   "outputs": [
    {
     "name": "stdout",
     "output_type": "stream",
     "text": [
      "Largest element is: 45\n",
      "Smallest element is: 2\n",
      "Sum of all elements in given list:  2\n",
      "Sum of all elements in given list:  6\n",
      "Sum of all elements in given list:  12\n",
      "Sum of all elements in given list:  20\n",
      "Sum of all elements in given list:  30\n",
      "Sum of all elements in given list:  42\n",
      "Sum of all elements in given list:  73\n",
      "Sum of all elements in given list:  114\n",
      "Sum of all elements in given list:  159\n"
     ]
    }
   ],
   "source": [
    "def find_len(list1):\n",
    "    length = len(list1)\n",
    "    list1.sort()\n",
    "    print(\"Largest element is:\", list1[length-1])\n",
    "    print(\"Smallest element is:\", list1[0])\n",
    "list1=[12, 45, 2, 41, 31, 10, 8, 6, 4]\n",
    "Largest = find_len(list1)\n",
    "total=0\n",
    "for ele in range(0, len(list1)):\n",
    "    total = total + list1[ele]\n",
    "    print(\"Sum of all elements in given list: \", total)"
   ]
  },
  {
   "cell_type": "markdown",
   "id": "f26d9101",
   "metadata": {},
   "source": [
    "5.How will you compare two lists?"
   ]
  },
  {
   "cell_type": "markdown",
   "id": "034126f3",
   "metadata": {},
   "source": [
    "->While programming in python, comparison has to be done very often for checking different conditions. We may need to compare two variables or two groups of variables for a single condition checking. In this article we will try different ways to compare two lists in python. While comparing, we will have to check if both the lists contain the same elements or not irrespective of the order in which the elements are present in the lists. Accordingly, we will have to print the result."
   ]
  },
  {
   "cell_type": "markdown",
   "id": "60334b61",
   "metadata": {},
   "source": [
    "6.Write a Python program to count the number of strings where the string length is 2 or more and the first and last character are same from a given list of strings."
   ]
  },
  {
   "cell_type": "code",
   "execution_count": 1,
   "id": "cdf158f8",
   "metadata": {},
   "outputs": [
    {
     "name": "stdout",
     "output_type": "stream",
     "text": [
      "2\n"
     ]
    }
   ],
   "source": [
    "def match_words(words):  \n",
    "  ctr = 0  \n",
    "  \n",
    "  for word in words:  \n",
    "    if len(word) > 1 and word[0] == word[-1]:  \n",
    "      ctr += 1  \n",
    "  return ctr  \n",
    "  \n",
    "print(match_words(['abc', 'xyz', 'aba', '1221']))  "
   ]
  },
  {
   "cell_type": "markdown",
   "id": "5f84cff7",
   "metadata": {},
   "source": [
    "7.Write a Python program to remove duplicates from a list."
   ]
  },
  {
   "cell_type": "code",
   "execution_count": 2,
   "id": "feea8d11",
   "metadata": {},
   "outputs": [
    {
     "name": "stdout",
     "output_type": "stream",
     "text": [
      "[2, 4, 10, 20, 5]\n"
     ]
    }
   ],
   "source": [
    "def Remove(duplicate):\n",
    "    final_list = []\n",
    "    for num in duplicate:\n",
    "        if num not in final_list:\n",
    "            final_list.append(num)\n",
    "    return final_list\n",
    "duplicate = [2, 4, 10, 20, 5, 2, 20, 4]\n",
    "print(Remove(duplicate))\n"
   ]
  },
  {
   "cell_type": "markdown",
   "id": "8abe85e9",
   "metadata": {},
   "source": [
    "8.Write a Python program to check a list is empty or not. "
   ]
  },
  {
   "cell_type": "code",
   "execution_count": 3,
   "id": "823e6e6d",
   "metadata": {},
   "outputs": [
    {
     "name": "stdout",
     "output_type": "stream",
     "text": [
      "Empty List\n"
     ]
    }
   ],
   "source": [
    "def Enquiry(lis1):\n",
    "    if len(lis1) == 0:\n",
    "        return 0\n",
    "    else:\n",
    "        return 1\n",
    "lis1 = []\n",
    "if Enquiry(lis1):\n",
    "    print(\"The list is not empty\")\n",
    "else:\n",
    "    print(\"Empty List\")"
   ]
  },
  {
   "cell_type": "markdown",
   "id": "87ebed05",
   "metadata": {},
   "source": [
    "9.Write a Python function that takes two lists and returns true if they have at least one common member."
   ]
  },
  {
   "cell_type": "code",
   "execution_count": 4,
   "id": "f8075b2d",
   "metadata": {},
   "outputs": [
    {
     "name": "stdout",
     "output_type": "stream",
     "text": [
      "True\n",
      "None\n"
     ]
    }
   ],
   "source": [
    "def common_data(list1, list2):\n",
    "     result = False\n",
    "     for x in list1:\n",
    "         for y in list2:\n",
    "             if x == y:\n",
    "                 result = True\n",
    "                 return result\n",
    "print(common_data([1,2,3,4,5], [5,6,7,8,9]))\n",
    "print(common_data([1,2,3,4,5], [6,7,8,9]))"
   ]
  },
  {
   "cell_type": "markdown",
   "id": "f5229cdd",
   "metadata": {},
   "source": [
    "10.Write a Python program to generate and print a list of first and last 5 elements where the values are square of numbers between 1 and 30."
   ]
  },
  {
   "cell_type": "code",
   "execution_count": 5,
   "id": "5981b0b8",
   "metadata": {},
   "outputs": [
    {
     "name": "stdout",
     "output_type": "stream",
     "text": [
      "[1, 4, 9, 16, 25]\n",
      "[256, 289, 324, 361, 400]\n"
     ]
    }
   ],
   "source": [
    "def printValues():\n",
    "    l = list()\n",
    "    for i in range(1,21):\n",
    "        l.append(i**2)\n",
    "    print(l[:5])\n",
    "    print(l[-5:])\n",
    "\n",
    "printValues()"
   ]
  },
  {
   "cell_type": "markdown",
   "id": "956671d1",
   "metadata": {},
   "source": [
    "11.Write a Python function that takes a list and returns a new list with unique elements of the first list."
   ]
  },
  {
   "cell_type": "code",
   "execution_count": 6,
   "id": "c34e660a",
   "metadata": {},
   "outputs": [
    {
     "name": "stdout",
     "output_type": "stream",
     "text": [
      "[1, 2, 3, 4, 5]\n"
     ]
    }
   ],
   "source": [
    "def f(l):\n",
    "    x = []\n",
    "    for a in l:\n",
    "        if a not in x:\n",
    "            x.append(a)\n",
    "    return x\n",
    "print(f([1,2,3,3,3,3,4,5]))"
   ]
  },
  {
   "cell_type": "markdown",
   "id": "c71ec258",
   "metadata": {},
   "source": [
    "12.Write a Python program to convert a list of characters into a string."
   ]
  },
  {
   "cell_type": "code",
   "execution_count": 8,
   "id": "be8a89bc",
   "metadata": {},
   "outputs": [
    {
     "name": "stdout",
     "output_type": "stream",
     "text": [
      "rohan\n"
     ]
    }
   ],
   "source": [
    "def convert(s):\n",
    "    new = \"\"\n",
    "    for x in s:\n",
    "        new += x\n",
    "    return new\n",
    "s = ['r','o','h','a','n']\n",
    "print(convert(s))"
   ]
  },
  {
   "cell_type": "markdown",
   "id": "affa5605",
   "metadata": {},
   "source": [
    "13.Write a Python program to select an item randomly from a list."
   ]
  },
  {
   "cell_type": "code",
   "execution_count": 11,
   "id": "2732b394",
   "metadata": {},
   "outputs": [
    {
     "name": "stdout",
     "output_type": "stream",
     "text": [
      "[6, 4, 6, 8]\n"
     ]
    }
   ],
   "source": [
    "import random\n",
    "list = [2, 2, 4, 6, 6, 8]\n",
    "n = 4\n",
    "print(random.sample(list, n))"
   ]
  },
  {
   "cell_type": "markdown",
   "id": "8895ac09",
   "metadata": {},
   "source": [
    "14.Write a Python program to find the second smallest number in a list."
   ]
  },
  {
   "cell_type": "code",
   "execution_count": 13,
   "id": "623bd1ab",
   "metadata": {},
   "outputs": [
    {
     "name": "stdout",
     "output_type": "stream",
     "text": [
      "Largest element is: 45\n",
      "Smallest element is: 2\n",
      "Second Largest element is: 41\n",
      "Second Smallest element is: 4\n"
     ]
    }
   ],
   "source": [
    "def find_len(list1):\n",
    "    length = len(list1)\n",
    "    list1.sort()\n",
    "    print(\"Largest element is:\", list1[length-1])\n",
    "    print(\"Smallest element is:\", list1[0])\n",
    "    print(\"Second Largest element is:\", list1[length-2])\n",
    "    print(\"Second Smallest element is:\", list1[1])\n",
    "list1=[12, 45, 2, 41, 31, 10, 8, 6, 4]\n",
    "Largest = find_len(list1)"
   ]
  },
  {
   "cell_type": "markdown",
   "id": "4482f37c",
   "metadata": {},
   "source": [
    "15.Write a Python program to get unique values from a list"
   ]
  },
  {
   "cell_type": "code",
   "execution_count": 1,
   "id": "ae58b900",
   "metadata": {},
   "outputs": [
    {
     "name": "stdout",
     "output_type": "stream",
     "text": [
      "Original List :  [10, 20, 30, 40, 20, 50, 60, 40]\n",
      "List of unique numbers :  [40, 10, 50, 20, 60, 30]\n"
     ]
    }
   ],
   "source": [
    "my_list = [10, 20, 30, 40, 20, 50, 60, 40]\n",
    "print(\"Original List : \",my_list)\n",
    "my_set = set(my_list)\n",
    "my_new_list = list(my_set)\n",
    "print(\"List of unique numbers : \",my_new_list)"
   ]
  },
  {
   "cell_type": "markdown",
   "id": "a6a2580a",
   "metadata": {},
   "source": [
    "16.Write a Python program to check whether a list contains a sub list"
   ]
  },
  {
   "cell_type": "code",
   "execution_count": 2,
   "id": "dd296594",
   "metadata": {},
   "outputs": [
    {
     "name": "stdout",
     "output_type": "stream",
     "text": [
      "The original list : [5, 6, 3, 8, 2, 1, 7, 1]\n",
      "Is sublist present in list ? : True\n"
     ]
    }
   ],
   "source": [
    "test_list = [5, 6, 3, 8, 2, 1, 7, 1]\n",
    "print(\"The original list : \" + str(test_list))\n",
    "sublist = [8, 2, 1]\n",
    "res = False\n",
    "for idx in range(len(test_list) - len(sublist) + 1):\n",
    "    if test_list[idx: idx + len(sublist)] == sublist:\n",
    "        res = True\n",
    "        break\n",
    "print(\"Is sublist present in list ? : \" + str(res))"
   ]
  },
  {
   "cell_type": "markdown",
   "id": "3cb70f73",
   "metadata": {},
   "source": [
    "17.Write a Python program to split a list into different variables. "
   ]
  },
  {
   "cell_type": "code",
   "execution_count": 3,
   "id": "530e33c3",
   "metadata": {},
   "outputs": [
    {
     "name": "stdout",
     "output_type": "stream",
     "text": [
      "The original list is : [1, 4, 5, 6, 7, 3, 5, 9, 2, 4]\n",
      "The original split index list : [2, 5, 7]\n",
      "The splitted lists are : [[1, 4], [5, 6, 7], [3, 5], [9, 2, 4]]\n"
     ]
    }
   ],
   "source": [
    "test_list = [1, 4, 5, 6, 7, 3, 5, 9, 2, 4]\n",
    "split_list = [2, 5, 7]\n",
    "print (\"The original list is : \" + str(test_list))\n",
    "print (\"The original split index list : \" + str(split_list))\n",
    "res = [test_list[i : j] for i, j in zip([0] +\n",
    "        split_list, split_list + [None])]\n",
    "print (\"The splitted lists are : \" + str(res))"
   ]
  },
  {
   "cell_type": "markdown",
   "id": "171695ec",
   "metadata": {},
   "source": [
    "18.What is tuple? Difference between list and tuple."
   ]
  },
  {
   "cell_type": "markdown",
   "id": "16b69684",
   "metadata": {},
   "source": [
    "-->List and Tuple in Python are the classes of Python Data Structures. The list is dynamic, whereas the tuple has static characteristics. This means that lists can be modified whereas tuples cannot be modified, the tuple is faster than the list because of static in nature. Lists are denoted by the square brackets but tuples are denoted as parenthesis."
   ]
  },
  {
   "cell_type": "code",
   "execution_count": 2,
   "id": "4550f60c",
   "metadata": {},
   "outputs": [
    {
     "name": "stdout",
     "output_type": "stream",
     "text": [
      "80\n",
      "64\n"
     ]
    }
   ],
   "source": [
    "import sys\n",
    "a_list = []\n",
    "a_tuple = ()\n",
    "a_list = [\"Geeks\", \"For\", \"Geeks\"]\n",
    "a_tuple = (\"Geeks\", \"For\", \"Geeks\")\n",
    "print(sys.getsizeof(a_list))\n",
    "print(sys.getsizeof(a_tuple))\n"
   ]
  },
  {
   "cell_type": "markdown",
   "id": "485fe325",
   "metadata": {},
   "source": [
    "19.Write a Python program to create a tuple with different data types."
   ]
  },
  {
   "cell_type": "code",
   "execution_count": 1,
   "id": "aa1a5dd9",
   "metadata": {},
   "outputs": [
    {
     "name": "stdout",
     "output_type": "stream",
     "text": [
      "('abc', 34, True, 40, 'male')\n"
     ]
    }
   ],
   "source": [
    "tuple1 = (\"abc\", 34, True, 40, \"male\")\n",
    "print(tuple1)"
   ]
  },
  {
   "cell_type": "markdown",
   "id": "75cf2856",
   "metadata": {},
   "source": [
    "20.Write a Python program to create a tuple with numbers."
   ]
  },
  {
   "cell_type": "code",
   "execution_count": 2,
   "id": "1e4f7e20",
   "metadata": {},
   "outputs": [
    {
     "name": "stdout",
     "output_type": "stream",
     "text": [
      "(30, 40, 50)\n"
     ]
    }
   ],
   "source": [
    "tuple1=(30,40,50)\n",
    "print(tuple1)"
   ]
  },
  {
   "cell_type": "markdown",
   "id": "7f24550e",
   "metadata": {},
   "source": [
    "21.Write a Python program to convert a tuple to a string."
   ]
  },
  {
   "cell_type": "code",
   "execution_count": 4,
   "id": "8dafd665",
   "metadata": {},
   "outputs": [
    {
     "name": "stdout",
     "output_type": "stream",
     "text": [
      "rohan\n"
     ]
    }
   ],
   "source": [
    "def convertTuple(tup):\n",
    "    str = ''\n",
    "    for item in tup:\n",
    "        str = str + item\n",
    "    return str\n",
    "tuple = ('r','o','h','a','n')\n",
    "str = convertTuple(tuple)\n",
    "print(str)\n"
   ]
  },
  {
   "cell_type": "markdown",
   "id": "0b4a7c9b",
   "metadata": {},
   "source": [
    "22.Write a Python program to check whether an element exists within a tuple."
   ]
  },
  {
   "cell_type": "code",
   "execution_count": 2,
   "id": "b896c7cb",
   "metadata": {},
   "outputs": [
    {
     "name": "stdout",
     "output_type": "stream",
     "text": [
      "The original tuple : (10, 4, 5, 6, 8)\n",
      "Does tuple contain required value ? : True\n"
     ]
    }
   ],
   "source": [
    "test_tup = (10, 4, 5, 6, 8)\n",
    "print(\"The original tuple : \" + str(test_tup))\n",
    "N = 6\n",
    "res = False\n",
    "for ele in test_tup:\n",
    "    if N == ele:\n",
    "        res = True\n",
    "        break\n",
    "print(\"Does tuple contain required value ? : \" + str(res))"
   ]
  },
  {
   "cell_type": "markdown",
   "id": "fe7b7e46",
   "metadata": {},
   "source": [
    "23.Write a Python program to find the length of a tuple."
   ]
  },
  {
   "cell_type": "code",
   "execution_count": 3,
   "id": "b2214f8a",
   "metadata": {},
   "outputs": [
    {
     "name": "stdout",
     "output_type": "stream",
     "text": [
      "('S', 'h', 'i', 'y', 'a', 'n', 'i')\n",
      "7\n"
     ]
    }
   ],
   "source": [
    "tuplex = tuple(\"Shiyani\")\n",
    "print(tuplex)\n",
    "print(len(tuplex))"
   ]
  },
  {
   "cell_type": "markdown",
   "id": "e28fe6e3",
   "metadata": {},
   "source": [
    "24.Write a Python program to convert a list to a tuple. "
   ]
  },
  {
   "cell_type": "code",
   "execution_count": 4,
   "id": "7374cb8a",
   "metadata": {},
   "outputs": [
    {
     "name": "stdout",
     "output_type": "stream",
     "text": [
      "(1, 2, 3, 4)\n"
     ]
    }
   ],
   "source": [
    "def convert(list):\n",
    "    return tuple(list)\n",
    "list = [1, 2, 3, 4]\n",
    "print(convert(list))\n"
   ]
  },
  {
   "cell_type": "markdown",
   "id": "1eb50864",
   "metadata": {},
   "source": [
    "25.Write a Python program to reverse a tuple."
   ]
  },
  {
   "cell_type": "code",
   "execution_count": 5,
   "id": "c821b402",
   "metadata": {},
   "outputs": [
    {
     "name": "stdout",
     "output_type": "stream",
     "text": [
      "('k', 'e', 'e', 'g', 'f', 'd', 'a', 'z')\n"
     ]
    }
   ],
   "source": [
    "def Reverse(tuples):\n",
    "    new_tup = tuples[::-1]\n",
    "    return new_tup\n",
    "tuples = ('z','a','d','f','g','e','e','k')\n",
    "print(Reverse(tuples))\n"
   ]
  },
  {
   "cell_type": "markdown",
   "id": "2a309a56",
   "metadata": {},
   "source": [
    "26. Write a Python program to replace last value of tuples in a list."
   ]
  },
  {
   "cell_type": "code",
   "execution_count": 6,
   "id": "623b97de",
   "metadata": {},
   "outputs": [
    {
     "name": "stdout",
     "output_type": "stream",
     "text": [
      "The original list is : [('gfg', 1), ('was', 2), ('best', 3)]\n",
      "The tuple after replacement is : [('gfg', 1), ('is', 2), ('best', 3)]\n"
     ]
    }
   ],
   "source": [
    "test_list = [('gfg', 1), ('was', 2), ('best', 3)]\n",
    "print(\"The original list is : \" + str(test_list))\n",
    "repl_rec = ('is', 2)\n",
    "N = 1\n",
    "for key, val in enumerate(test_list):\n",
    "    if val[N] == repl_rec[N]:\n",
    "        test_list[key] = repl_rec\n",
    "        break\n",
    "print(\"The tuple after replacement is : \" + str(test_list))"
   ]
  },
  {
   "cell_type": "markdown",
   "id": "7ff0b1c4",
   "metadata": {},
   "source": [
    "27. Write a Python program to find the repeated items of a tuple."
   ]
  },
  {
   "cell_type": "code",
   "execution_count": 12,
   "id": "51c29e6d",
   "metadata": {},
   "outputs": [
    {
     "name": "stdout",
     "output_type": "stream",
     "text": [
      "(2, 4, 5, 6, 2, 3, 4, 4, 7)\n",
      "3\n"
     ]
    }
   ],
   "source": [
    "tuplex = 2, 4, 5, 6, 2, 3, 4, 4, 7 \n",
    "print(tuplex)\n",
    "count = tuplex.count(4)\n",
    "print(count)"
   ]
  },
  {
   "cell_type": "markdown",
   "id": "0d7708a1",
   "metadata": {},
   "source": [
    "28.Write a Python program to remove an empty tuple(s) from a list of tuples."
   ]
  },
  {
   "cell_type": "code",
   "execution_count": 13,
   "id": "4fd68e9b",
   "metadata": {},
   "outputs": [
    {
     "name": "stdout",
     "output_type": "stream",
     "text": [
      "[('ram', '15', '8'), ('laxman', 'sita'), ('krishna', 'akbar', '45'), ('', '')]\n"
     ]
    }
   ],
   "source": [
    "def Remove(tuples):\n",
    "    tuples = [t for t in tuples if t]\n",
    "    return tuples\n",
    "tuples = [(), ('ram','15','8'), (), ('laxman', 'sita'),\n",
    "        ('krishna', 'akbar', '45'), ('',''),()]\n",
    "print(Remove(tuples))\n"
   ]
  },
  {
   "cell_type": "markdown",
   "id": "79daa956",
   "metadata": {},
   "source": [
    "29. Write a Python program to unzip a list of tuples into individual lists. "
   ]
  },
  {
   "cell_type": "code",
   "execution_count": 16,
   "id": "81a907fb",
   "metadata": {},
   "outputs": [
    {
     "name": "stdout",
     "output_type": "stream",
     "text": [
      "Original list is : [('Akshat', 1), ('Bro', 2), ('is', 3), ('Placed', 4)]\n",
      "Modified list is : [['Akshat', 'Bro', 'is', 'Placed'], [1, 2, 3, 4]]\n"
     ]
    }
   ],
   "source": [
    "test_list = [('Akshat', 1), ('Bro', 2), ('is', 3), ('Placed', 4)]\n",
    "print(\"Original list is : \" + str(test_list))\n",
    "res = [[i for i, j in test_list],\n",
    "    [j for i, j in test_list]]\n",
    "print(\"Modified list is : \" + str(res))\n"
   ]
  },
  {
   "cell_type": "markdown",
   "id": "6c9d012e",
   "metadata": {},
   "source": [
    "30.Write a Python program to convert a list of tuples into a dictionary."
   ]
  },
  {
   "cell_type": "code",
   "execution_count": 17,
   "id": "6c91e4d9",
   "metadata": {},
   "outputs": [
    {
     "name": "stdout",
     "output_type": "stream",
     "text": [
      "The original key tuple is : ('GFG', 'is', 'best')\n",
      "The original value tuple is : (1, 2, 3)\n",
      "Dictionary constructed from tuples : {'GFG': 1, 'is': 2, 'best': 3}\n"
     ]
    }
   ],
   "source": [
    "test_tup1 = ('GFG', 'is', 'best')\n",
    "test_tup2 = (1, 2, 3)\n",
    "print(\"The original key tuple is : \" + str(test_tup1))\n",
    "print(\"The original value tuple is : \" + str(test_tup2))\n",
    "if len(test_tup1) == len(test_tup2):\n",
    "    res = {test_tup1[i] : test_tup2[i] for i, _ in enumerate(test_tup2)}\n",
    "print(\"Dictionary constructed from tuples : \" + str(res))\n"
   ]
  },
  {
   "cell_type": "markdown",
   "id": "0c966227",
   "metadata": {},
   "source": [
    "31.How will you create a dictionary using tuples in python? "
   ]
  },
  {
   "cell_type": "code",
   "execution_count": 18,
   "id": "74cd4e3f",
   "metadata": {},
   "outputs": [
    {
     "data": {
      "text/plain": [
       "{('chapathi', 'roti'): 'Bobby', ('Paraota', 'Idly', 'Dosa'): 'ojaswi'}"
      ]
     },
     "execution_count": 18,
     "metadata": {},
     "output_type": "execute_result"
    }
   ],
   "source": [
    "data = {(\"chapathi\", \"roti\"): 'Bobby',\n",
    "        (\"Paraota\", \"Idly\", \"Dosa\"): 'ojaswi'}\n",
    "data\n"
   ]
  },
  {
   "cell_type": "markdown",
   "id": "26a906ae",
   "metadata": {},
   "source": [
    "32. Write a Python script to sort (ascending and descending) a dictionary by value."
   ]
  },
  {
   "cell_type": "code",
   "execution_count": 19,
   "id": "fcd082ca",
   "metadata": {},
   "outputs": [
    {
     "name": "stdout",
     "output_type": "stream",
     "text": [
      "Original dictionary :  {1: 2, 3: 4, 4: 3, 2: 1, 0: 0}\n",
      "Dictionary in ascending order by value :  [(0, 0), (2, 1), (1, 2), (4, 3), (3, 4)]\n",
      "Dictionary in descending order by value :  {3: 4, 4: 3, 1: 2, 2: 1, 0: 0}\n"
     ]
    }
   ],
   "source": [
    "import operator\n",
    "d = {1: 2, 3: 4, 4: 3, 2: 1, 0: 0}\n",
    "print('Original dictionary : ',d)\n",
    "sorted_d = sorted(d.items(), key=operator.itemgetter(1))\n",
    "print('Dictionary in ascending order by value : ',sorted_d)\n",
    "sorted_d = dict( sorted(d.items(), key=operator.itemgetter(1),reverse=True))\n",
    "print('Dictionary in descending order by value : ',sorted_d)"
   ]
  },
  {
   "cell_type": "markdown",
   "id": "55cb7fc0",
   "metadata": {},
   "source": [
    "33. Write a Python script to concatenate following dictionaries to create a new one."
   ]
  },
  {
   "cell_type": "code",
   "execution_count": 21,
   "id": "7ebcac04",
   "metadata": {},
   "outputs": [
    {
     "name": "stdout",
     "output_type": "stream",
     "text": [
      "{1: 10, 2: 20, 3: 30, 4: 40, 5: 50, 6: 60}\n"
     ]
    }
   ],
   "source": [
    "dic1={1:10, 2:20}\n",
    "dic2={3:30, 4:40}\n",
    "dic3={5:50,6:60}\n",
    "dic4 = {}\n",
    "for d in (dic1, dic2, dic3): dic4.update(d)\n",
    "print(dic4)"
   ]
  },
  {
   "cell_type": "markdown",
   "id": "b0634ab9",
   "metadata": {},
   "source": [
    "34. Write a Python script to check if a given key already exists in a dictionary. "
   ]
  },
  {
   "cell_type": "code",
   "execution_count": 22,
   "id": "873dc7c7",
   "metadata": {},
   "outputs": [
    {
     "name": "stdout",
     "output_type": "stream",
     "text": [
      "Present,  value = 200\n",
      "Not present\n"
     ]
    }
   ],
   "source": [
    "def checkKey(dic, key):\n",
    "    if key in dic.keys():\n",
    "        print(\"Present, \", end =\" \")\n",
    "        print(\"value =\", dic[key])\n",
    "    else:\n",
    "        print(\"Not present\")\n",
    "dic = {'a': 100, 'b':200, 'c':300}\n",
    "key = 'b'\n",
    "checkKey(dic, key)\n",
    "\n",
    "key = 'w'\n",
    "checkKey(dic, key)\n"
   ]
  },
  {
   "cell_type": "markdown",
   "id": "63695db8",
   "metadata": {},
   "source": [
    "35.How Do You Traverse Through A Dictionary Object In Python? "
   ]
  },
  {
   "cell_type": "code",
   "execution_count": 23,
   "id": "dcbe887d",
   "metadata": {},
   "outputs": [
    {
     "name": "stdout",
     "output_type": "stream",
     "text": [
      "dict_keys(['Gujarat', 'Maharashtra', 'Rajasthan', 'Bihar'])\n"
     ]
    }
   ],
   "source": [
    "statesAndCapitals = {\n",
    "    'Gujarat': 'Gandhinagar',\n",
    "    'Maharashtra': 'Mumbai',\n",
    "    'Rajasthan': 'Jaipur',\n",
    "    'Bihar': 'Patna'\n",
    "}\n",
    "\n",
    "keys = statesAndCapitals.keys()\n",
    "print(keys)\n"
   ]
  },
  {
   "cell_type": "markdown",
   "id": "b0a31c13",
   "metadata": {},
   "source": [
    "36. How Do You Check The Presence Of A Key In A Dictionary?"
   ]
  },
  {
   "cell_type": "code",
   "execution_count": 24,
   "id": "f8d57763",
   "metadata": {},
   "outputs": [
    {
     "name": "stdout",
     "output_type": "stream",
     "text": [
      "Present,  value = 200\n",
      "Not present\n"
     ]
    }
   ],
   "source": [
    "def checkKey(dic, key):\n",
    "    if key in dic.keys():\n",
    "        print(\"Present, \", end =\" \")\n",
    "        print(\"value =\", dic[key])\n",
    "    else:\n",
    "        print(\"Not present\")\n",
    "dic = {'a': 100, 'b':200, 'c':300}\n",
    "key = 'b'\n",
    "checkKey(dic, key)\n",
    "\n",
    "key = 'w'\n",
    "checkKey(dic, key)\n"
   ]
  },
  {
   "cell_type": "markdown",
   "id": "92c3dc3c",
   "metadata": {},
   "source": [
    "37. Write a Python script to print a dictionary where the keys are numbers between 1 and 15."
   ]
  },
  {
   "cell_type": "code",
   "execution_count": 25,
   "id": "1c6eeb9a",
   "metadata": {},
   "outputs": [
    {
     "name": "stdout",
     "output_type": "stream",
     "text": [
      "{1: 1, 2: 4, 3: 9, 4: 16, 5: 25, 6: 36, 7: 49, 8: 64, 9: 81, 10: 100, 11: 121, 12: 144, 13: 169, 14: 196, 15: 225}\n"
     ]
    }
   ],
   "source": [
    "d=dict()\n",
    "for x in range(1,16):\n",
    "    d[x]=x**2\n",
    "print(d)  "
   ]
  },
  {
   "cell_type": "markdown",
   "id": "00cea59e",
   "metadata": {},
   "source": [
    "38.Write a Python program to check multiple keys exists in a dictionary "
   ]
  },
  {
   "cell_type": "code",
   "execution_count": 26,
   "id": "b606121b",
   "metadata": {},
   "outputs": [
    {
     "name": "stdout",
     "output_type": "stream",
     "text": [
      "True\n",
      "False\n"
     ]
    }
   ],
   "source": [
    "sports = {\"Rohan\" : 1, \"practice\" : 2, \"contribute\" :3}\n",
    "print(sports.keys() >= {\"Rohan\", \"practice\"})\n",
    "print(sports.keys() >= {\"contribute\", \"ide\"})\n"
   ]
  },
  {
   "cell_type": "markdown",
   "id": "2610aeec",
   "metadata": {},
   "source": [
    "39. Write a Python script to merge two Python dictionaries"
   ]
  },
  {
   "cell_type": "code",
   "execution_count": 27,
   "id": "fc39180c",
   "metadata": {},
   "outputs": [
    {
     "name": "stdout",
     "output_type": "stream",
     "text": [
      "None\n",
      "{'d': 6, 'c': 4, 'a': 10, 'b': 8}\n"
     ]
    }
   ],
   "source": [
    "def Merge(dict1, dict2):\n",
    "    return(dict2.update(dict1))\n",
    "dict1 = {'a': 10, 'b': 8}\n",
    "dict2 = {'d': 6, 'c': 4}\n",
    "print(Merge(dict1, dict2))\n",
    "print(dict2)\n"
   ]
  },
  {
   "cell_type": "markdown",
   "id": "1a6967b0",
   "metadata": {},
   "source": [
    "40. Write a Python program to map two lists into a dictionary "
   ]
  },
  {
   "cell_type": "code",
   "execution_count": 29,
   "id": "1183b789",
   "metadata": {},
   "outputs": [
    {
     "name": "stdout",
     "output_type": "stream",
     "text": [
      "Original key list is : ['Rash', 'Kil', 'Varsha']\n",
      "Original value list is : [1, 4, 5]\n",
      "Resultant dictionary is : {'Rash': 1, 'Kil': 4, 'Varsha': 5}\n"
     ]
    }
   ],
   "source": [
    "test_keys = [\"Rash\", \"Kil\", \"Varsha\"]\n",
    "test_values = [1, 4, 5]\n",
    "print(\"Original key list is : \" + str(test_keys))\n",
    "print(\"Original value list is : \" + str(test_values))\n",
    "res = {}\n",
    "for key in test_keys:\n",
    "    for value in test_values:\n",
    "        res[key] = value\n",
    "        test_values.remove(value)\n",
    "        break\n",
    "print(\"Resultant dictionary is : \" + str(res))\n"
   ]
  },
  {
   "cell_type": "markdown",
   "id": "83986117",
   "metadata": {},
   "source": [
    "41. Write a Python program to combine two dictionary adding values for common keys. \n",
    "d1 = {'a': 100, 'b': 200, 'c':300} o d2 = {'a': 300, 'b': 200,’d’:400} \n",
    "Sample output: Counter ({'a': 400, 'b': 400,’d’: 400, 'c': 300})."
   ]
  },
  {
   "cell_type": "code",
   "execution_count": 31,
   "id": "cc05b7b0",
   "metadata": {},
   "outputs": [
    {
     "name": "stdout",
     "output_type": "stream",
     "text": [
      "{'shiyani': 100, 'rohan': 200, 'for': 325}\n"
     ]
    }
   ],
   "source": [
    "dict1 = {'a': 12, 'for': 25, 'c': 9}\n",
    "dict2 = {'shiyani': 100, 'rohan': 200, 'for': 300}\n",
    "for key in dict2:\n",
    "    if key in dict1:\n",
    "        dict2[key] = dict2[key] + dict1[key]\n",
    "    else:\n",
    "        pass\n",
    "print(dict2)\n"
   ]
  },
  {
   "cell_type": "markdown",
   "id": "9c77bc57",
   "metadata": {},
   "source": [
    "42. Write a Python program to print all unique values in a dictionary. "
   ]
  },
  {
   "cell_type": "code",
   "execution_count": 32,
   "id": "d2dca712",
   "metadata": {},
   "outputs": [
    {
     "name": "stdout",
     "output_type": "stream",
     "text": [
      "Original List:  [{'V': 'S001'}, {'V': 'S002'}, {'VI': 'S001'}, {'VI': 'S005'}, {'VII': 'S005'}, {'V': 'S009'}, {'VIII': 'S007'}]\n",
      "Unique Values:  {'S007', 'S001', 'S009', 'S005', 'S002'}\n"
     ]
    }
   ],
   "source": [
    "L = [{\"V\":\"S001\"}, {\"V\": \"S002\"}, {\"VI\": \"S001\"}, {\"VI\": \"S005\"}, {\"VII\":\"S005\"}, {\"V\":\"S009\"},{\"VIII\":\"S007\"}]\n",
    "print(\"Original List: \",L)\n",
    "u_value = set( val for dic in L for val in dic.values())\n",
    "print(\"Unique Values: \",u_value)"
   ]
  },
  {
   "cell_type": "markdown",
   "id": "ae8b6a05",
   "metadata": {},
   "source": [
    "43.Why Do You Use the Zip () Method in Python?"
   ]
  },
  {
   "cell_type": "code",
   "execution_count": 33,
   "id": "61f74307",
   "metadata": {},
   "outputs": [
    {
     "name": "stdout",
     "output_type": "stream",
     "text": [
      "{('Nikhil', 1), ('Astha', 2), ('Shambhavi', 3), ('Manjeet', 4)}\n"
     ]
    }
   ],
   "source": [
    "name = [ \"Manjeet\", \"Nikhil\", \"Shambhavi\", \"Astha\" ]\n",
    "roll_no = [ 4, 1, 3, 2 ]\n",
    "mapped = zip(name, roll_no)\n",
    "\n",
    "print(set(mapped))\n"
   ]
  },
  {
   "cell_type": "markdown",
   "id": "a60e4bf5",
   "metadata": {},
   "source": [
    "44. Write a Python program to create and display all combinations of letters, selecting each letter from a different key in a dictionary. \n",
    "Sample data: {'1': ['a','b'], '2': ['c','d']}"
   ]
  },
  {
   "cell_type": "code",
   "execution_count": 34,
   "id": "bed40ed1",
   "metadata": {},
   "outputs": [
    {
     "name": "stdout",
     "output_type": "stream",
     "text": [
      "ac\n",
      "ad\n",
      "bc\n",
      "bd\n"
     ]
    }
   ],
   "source": [
    "import itertools      \n",
    "d ={'1':['a','b'], '2':['c','d']}\n",
    "for combo in itertools.product(*[d[k] for k in sorted(d.keys())]):\n",
    "    print(''.join(combo))"
   ]
  },
  {
   "cell_type": "markdown",
   "id": "4b81c64b",
   "metadata": {},
   "source": [
    "45. Write a Python program to find the highest 3 values in a dictionary "
   ]
  },
  {
   "cell_type": "code",
   "execution_count": 35,
   "id": "28627341",
   "metadata": {},
   "outputs": [
    {
     "name": "stdout",
     "output_type": "stream",
     "text": [
      "['b', 'e', 'c']\n"
     ]
    }
   ],
   "source": [
    "from heapq import nlargest\n",
    "my_dict = {'a':500, 'b':5874, 'c': 560,'d':400, 'e':5874, 'f': 20}  \n",
    "three_largest = nlargest(3, my_dict, key=my_dict.get)\n",
    "print(three_largest)"
   ]
  },
  {
   "cell_type": "markdown",
   "id": "6594e0e9",
   "metadata": {},
   "source": [
    "46. Write a Python program to combine values in python list of dictionaries. \n",
    "Sample data: [{'item': 'item1', 'amount': 400}, {'item': 'item2', 'amount': \n",
    "300}, o {'item': 'item1', 'amount': 750}] "
   ]
  },
  {
   "cell_type": "code",
   "execution_count": 36,
   "id": "aedcee8d",
   "metadata": {},
   "outputs": [
    {
     "name": "stdout",
     "output_type": "stream",
     "text": [
      "Counter({'item1': 1150, 'item2': 300})\n"
     ]
    }
   ],
   "source": [
    "from collections import Counter\n",
    "item_list = [{'item': 'item1', 'amount': 400}, {'item': 'item2', 'amount': 300}, {'item': 'item1', 'amount': 750}]\n",
    "result = Counter()\n",
    "for d in item_list:\n",
    "    result[d['item']] += d['amount']\n",
    "print(result) "
   ]
  },
  {
   "cell_type": "markdown",
   "id": "1df35d07",
   "metadata": {},
   "source": [
    "47.Write a Python program to create a dictionary from a string. \n",
    "Note: Track the count of the letters from the string. \n",
    "Sample string: 'w3resource'"
   ]
  },
  {
   "cell_type": "code",
   "execution_count": 37,
   "id": "e6904617",
   "metadata": {},
   "outputs": [
    {
     "name": "stdout",
     "output_type": "stream",
     "text": [
      "{'w': 1, '3': 1, 'r': 2, 'e': 2, 's': 1, 'o': 1, 'u': 1, 'c': 1}\n"
     ]
    }
   ],
   "source": [
    "from collections import defaultdict, Counter\n",
    "str1 = 'w3resource' \n",
    "my_dict = {}\n",
    "for letter in str1:\n",
    "    my_dict[letter] = my_dict.get(letter, 0) + 1\n",
    "print(my_dict)"
   ]
  },
  {
   "cell_type": "markdown",
   "id": "45effe1f",
   "metadata": {},
   "source": [
    "48.Write a Python function to calculate the factorial of a number (a nonnegative integer) "
   ]
  },
  {
   "cell_type": "code",
   "execution_count": 38,
   "id": "7868b07a",
   "metadata": {},
   "outputs": [
    {
     "name": "stdout",
     "output_type": "stream",
     "text": [
      "Input a number to compute the factiorial : 5\n",
      "120\n"
     ]
    }
   ],
   "source": [
    "def factorial(n):\n",
    "    if n == 0:\n",
    "        return 1\n",
    "    else:\n",
    "        return n * factorial(n-1)\n",
    "n=int(input(\"Input a number to compute the factiorial : \"))\n",
    "print(factorial(n))"
   ]
  },
  {
   "cell_type": "markdown",
   "id": "b47c00ce",
   "metadata": {},
   "source": [
    "49. Write a Python function to check whether a number is in a given range"
   ]
  },
  {
   "cell_type": "code",
   "execution_count": 39,
   "id": "1ca271fe",
   "metadata": {},
   "outputs": [
    {
     "name": "stdout",
     "output_type": "stream",
     "text": [
      " 5 is in the range\n"
     ]
    }
   ],
   "source": [
    "def test_range(n):\n",
    "    if n in range(3,9):\n",
    "        print( \" %s is in the range\"%str(n))\n",
    "    else :\n",
    "        print(\"The number is outside the given range.\")\n",
    "test_range(5)"
   ]
  },
  {
   "cell_type": "markdown",
   "id": "1d3feb18",
   "metadata": {},
   "source": [
    "50. Write a Python function to check whether a number is perfect or not."
   ]
  },
  {
   "cell_type": "code",
   "execution_count": 40,
   "id": "bded2470",
   "metadata": {},
   "outputs": [
    {
     "name": "stdout",
     "output_type": "stream",
     "text": [
      "True\n"
     ]
    }
   ],
   "source": [
    "def perfect_number(n):\n",
    "    sum = 0\n",
    "    for x in range(1, n):\n",
    "        if n % x == 0:\n",
    "            sum += x\n",
    "    return sum == n\n",
    "print(perfect_number(6))"
   ]
  },
  {
   "cell_type": "markdown",
   "id": "612f7898",
   "metadata": {},
   "source": [
    "51.Write a Python function that checks whether a passed string is palindrome or not "
   ]
  },
  {
   "cell_type": "code",
   "execution_count": 41,
   "id": "f2dee165",
   "metadata": {},
   "outputs": [
    {
     "name": "stdout",
     "output_type": "stream",
     "text": [
      "Yes\n"
     ]
    }
   ],
   "source": [
    "def isPalindrome(s):\n",
    "    return s == s[::-1]\n",
    "s = \"malayalam\"\n",
    "ans = isPalindrome(s)\n",
    "if ans:\n",
    "    print(\"Yes\")\n",
    "else:\n",
    "    print(\"No\")\n"
   ]
  },
  {
   "cell_type": "markdown",
   "id": "80694b27",
   "metadata": {},
   "source": [
    "52. How Many Basic Types Of Functions Are Available In Python? "
   ]
  },
  {
   "cell_type": "markdown",
   "id": "4d3fe519",
   "metadata": {},
   "source": [
    "There are two types of functions in python:\n",
    "\n"
   ]
  },
  {
   "cell_type": "markdown",
   "id": "e6e7d17f",
   "metadata": {},
   "source": [
    "1.User-Defined Functions - these types of functions are defined by the user to perform any specific task\n"
   ]
  },
  {
   "cell_type": "markdown",
   "id": "deee6fcd",
   "metadata": {},
   "source": [
    "2.Built-in Functions - These are pre-defined functions in python."
   ]
  },
  {
   "cell_type": "markdown",
   "id": "beea7744",
   "metadata": {},
   "source": [
    "53. How can you pick a random item from a list or tuple? "
   ]
  },
  {
   "cell_type": "markdown",
   "id": "8dd278ac",
   "metadata": {},
   "source": [
    "Using random.choice() method ,\n",
    "\n",
    "Using random.randrange() method ,\n",
    "\n",
    "Using random.randint() method ,\n",
    "\n",
    "Using random.random() ,\n",
    "\n",
    "Using random.sample() method ,\n",
    "\n",
    "Using random.choices() method ,"
   ]
  },
  {
   "cell_type": "markdown",
   "id": "4558de92",
   "metadata": {},
   "source": [
    "54.How can you pick a random item from a range? "
   ]
  },
  {
   "cell_type": "markdown",
   "id": "74b5ff1e",
   "metadata": {},
   "source": [
    "Using random.randrange() function\n",
    "\n",
    "Using random.randint() function\n",
    "\n",
    "Using random.random() function\n",
    "\n",
    "Using random.sample()"
   ]
  },
  {
   "cell_type": "markdown",
   "id": "3e87503d",
   "metadata": {},
   "source": [
    "55. How can you get a random number in python? "
   ]
  },
  {
   "cell_type": "code",
   "execution_count": 44,
   "id": "c9cbc9c1",
   "metadata": {},
   "outputs": [
    {
     "name": "stdout",
     "output_type": "stream",
     "text": [
      "0.18811391823751633\n"
     ]
    }
   ],
   "source": [
    "import random\n",
    "num = random.random()\n",
    "print(num)\n"
   ]
  },
  {
   "cell_type": "markdown",
   "id": "67eafd02",
   "metadata": {},
   "source": [
    "56.How will you set the starting value in generating random numbers?"
   ]
  },
  {
   "cell_type": "markdown",
   "id": "a647ff84",
   "metadata": {},
   "source": [
    "To generate a random number, the random number generator requires a starting numeric value (a seed value). NOTE − The random number generator utilizes the current system time by default. To change the random number generator's starting number, use the seed () method."
   ]
  },
  {
   "cell_type": "markdown",
   "id": "3ab56b72",
   "metadata": {},
   "source": [
    "57. How will you randomizes the items of a list in place?"
   ]
  },
  {
   "cell_type": "markdown",
   "id": "eb2c3b3b",
   "metadata": {},
   "source": [
    "The shuffle () method randomizes the items of a list in place. Syntax Following is the syntax for shuffle () method − shuffle (lst, [random])"
   ]
  },
  {
   "cell_type": "markdown",
   "id": "f792c819",
   "metadata": {},
   "source": [
    "58. Write a Python program to read a random line from a file. "
   ]
  },
  {
   "cell_type": "code",
   "execution_count": 46,
   "id": "429d3340",
   "metadata": {},
   "outputs": [
    {
     "ename": "FileNotFoundError",
     "evalue": "[Errno 2] No such file or directory: 'MyFile.txt'",
     "output_type": "error",
     "traceback": [
      "\u001b[1;31m---------------------------------------------------------------------------\u001b[0m",
      "\u001b[1;31mFileNotFoundError\u001b[0m                         Traceback (most recent call last)",
      "\u001b[1;32m<ipython-input-46-a1aa2e40a103>\u001b[0m in \u001b[0;36m<module>\u001b[1;34m\u001b[0m\n\u001b[0;32m      1\u001b[0m \u001b[1;32mimport\u001b[0m \u001b[0mrandom\u001b[0m\u001b[1;33m\u001b[0m\u001b[1;33m\u001b[0m\u001b[0m\n\u001b[1;32m----> 2\u001b[1;33m \u001b[1;32mwith\u001b[0m \u001b[0mopen\u001b[0m\u001b[1;33m(\u001b[0m\u001b[1;34m\"MyFile.txt\"\u001b[0m\u001b[1;33m,\u001b[0m \u001b[1;34m\"r\"\u001b[0m\u001b[1;33m)\u001b[0m \u001b[1;32mas\u001b[0m \u001b[0mfile\u001b[0m\u001b[1;33m:\u001b[0m\u001b[1;33m\u001b[0m\u001b[1;33m\u001b[0m\u001b[0m\n\u001b[0m\u001b[0;32m      3\u001b[0m     \u001b[0mallText\u001b[0m \u001b[1;33m=\u001b[0m \u001b[0mfile\u001b[0m\u001b[1;33m.\u001b[0m\u001b[0mread\u001b[0m\u001b[1;33m(\u001b[0m\u001b[1;33m)\u001b[0m\u001b[1;33m\u001b[0m\u001b[1;33m\u001b[0m\u001b[0m\n\u001b[0;32m      4\u001b[0m     \u001b[0mwords\u001b[0m \u001b[1;33m=\u001b[0m \u001b[0mlist\u001b[0m\u001b[1;33m(\u001b[0m\u001b[0mmap\u001b[0m\u001b[1;33m(\u001b[0m\u001b[0mstr\u001b[0m\u001b[1;33m,\u001b[0m \u001b[0mallText\u001b[0m\u001b[1;33m.\u001b[0m\u001b[0msplit\u001b[0m\u001b[1;33m(\u001b[0m\u001b[1;33m)\u001b[0m\u001b[1;33m)\u001b[0m\u001b[1;33m)\u001b[0m\u001b[1;33m\u001b[0m\u001b[1;33m\u001b[0m\u001b[0m\n\u001b[0;32m      5\u001b[0m \u001b[0mprint\u001b[0m\u001b[1;33m(\u001b[0m\u001b[0mrandom\u001b[0m\u001b[1;33m.\u001b[0m\u001b[0mchoice\u001b[0m\u001b[1;33m(\u001b[0m\u001b[0mwords\u001b[0m\u001b[1;33m)\u001b[0m\u001b[1;33m)\u001b[0m\u001b[1;33m\u001b[0m\u001b[1;33m\u001b[0m\u001b[0m\n",
      "\u001b[1;31mFileNotFoundError\u001b[0m: [Errno 2] No such file or directory: 'MyFile.txt'"
     ]
    }
   ],
   "source": [
    "import random\n",
    "with open(\"MyFile.txt\", \"r\") as file:\n",
    "    allText = file.read()\n",
    "    words = list(map(str, allText.split()))\n",
    "print(random.choice(words))\n"
   ]
  },
  {
   "cell_type": "markdown",
   "id": "85cbe9ad",
   "metadata": {},
   "source": [
    "59.Write a Python program to convert degree to radian "
   ]
  },
  {
   "cell_type": "code",
   "execution_count": 47,
   "id": "8d475d75",
   "metadata": {},
   "outputs": [
    {
     "name": "stdout",
     "output_type": "stream",
     "text": [
      "Input degrees: 60\n",
      "1.0476190476190477\n"
     ]
    }
   ],
   "source": [
    "pi=22/7\n",
    "degree = float(input(\"Input degrees: \"))\n",
    "radian = degree*(pi/180)\n",
    "print(radian)"
   ]
  },
  {
   "cell_type": "markdown",
   "id": "8c9b415d",
   "metadata": {},
   "source": [
    "60. Write a Python program to calculate the area of a trapezoid "
   ]
  },
  {
   "cell_type": "code",
   "execution_count": 48,
   "id": "f88bac5f",
   "metadata": {},
   "outputs": [
    {
     "name": "stdout",
     "output_type": "stream",
     "text": [
      "Height of trapezoid: 20\n",
      "Base one value: 150\n",
      "Base two value: 60\n",
      "Area is: 2100.0\n"
     ]
    }
   ],
   "source": [
    "base_1 = 5\n",
    "base_2 = 6\n",
    "height = float(input(\"Height of trapezoid: \"))\n",
    "base_1 = float(input('Base one value: '))\n",
    "base_2 = float(input('Base two value: '))\n",
    "area = ((base_1 + base_2) / 2) * height\n",
    "print(\"Area is:\", area)"
   ]
  },
  {
   "cell_type": "markdown",
   "id": "b464552c",
   "metadata": {},
   "source": [
    "61.Write a Python program to calculate the area of a parallelogram "
   ]
  },
  {
   "cell_type": "code",
   "execution_count": 49,
   "id": "0d962eab",
   "metadata": {},
   "outputs": [
    {
     "name": "stdout",
     "output_type": "stream",
     "text": [
      "Length of base: 50\n",
      "Measurement of height: 23\n",
      "Area is:  1150.0\n"
     ]
    }
   ],
   "source": [
    "base = float(input('Length of base: '))\n",
    "height = float(input('Measurement of height: '))\n",
    "area = base * height\n",
    "print(\"Area is: \", area)"
   ]
  },
  {
   "cell_type": "markdown",
   "id": "7e6d4771",
   "metadata": {},
   "source": [
    "62.Write a Python program to calculate surface volume and area of a cylinder "
   ]
  },
  {
   "cell_type": "code",
   "execution_count": 50,
   "id": "e327db63",
   "metadata": {},
   "outputs": [
    {
     "name": "stdout",
     "output_type": "stream",
     "text": [
      "Height of cylinder: 25\n",
      "Radius of cylinder: 52\n",
      "Volume is:  212457.14285714284\n",
      "Surface Area is:  25168.0\n"
     ]
    }
   ],
   "source": [
    "pi=22/7\n",
    "height = float(input('Height of cylinder: '))\n",
    "radian = float(input('Radius of cylinder: '))\n",
    "volume = pi * radian * radian * height\n",
    "sur_area = ((2*pi*radian) * height) + ((pi*radian**2)*2)\n",
    "print(\"Volume is: \", volume)\n",
    "print(\"Surface Area is: \", sur_area)"
   ]
  },
  {
   "cell_type": "markdown",
   "id": "c3038157",
   "metadata": {},
   "source": [
    "63. Write a Python program to returns sum of all divisors of a number "
   ]
  },
  {
   "cell_type": "code",
   "execution_count": 51,
   "id": "f11b648a",
   "metadata": {},
   "outputs": [
    {
     "name": "stdout",
     "output_type": "stream",
     "text": [
      "7\n",
      "16\n"
     ]
    }
   ],
   "source": [
    "def sum_div(number):\n",
    "    divisors = [1]\n",
    "    for i in range(2, number):\n",
    "        if (number % i)==0:\n",
    "            divisors.append(i)\n",
    "    return sum(divisors)\n",
    "print(sum_div(8))\n",
    "print(sum_div(12))"
   ]
  },
  {
   "cell_type": "markdown",
   "id": "04393b75",
   "metadata": {},
   "source": [
    "64. Write a Python program to find the maximum and minimum numbers \n",
    "from the specified decimal numbers. "
   ]
  },
  {
   "cell_type": "code",
   "execution_count": 54,
   "id": "a804ad4e",
   "metadata": {},
   "outputs": [
    {
     "ename": "TypeError",
     "evalue": "'list' object is not callable",
     "output_type": "error",
     "traceback": [
      "\u001b[1;31m---------------------------------------------------------------------------\u001b[0m",
      "\u001b[1;31mTypeError\u001b[0m                                 Traceback (most recent call last)",
      "\u001b[1;32m<ipython-input-54-949c93b57e78>\u001b[0m in \u001b[0;36m<module>\u001b[1;34m\u001b[0m\n\u001b[1;32m----> 1\u001b[1;33m \u001b[0mdata\u001b[0m \u001b[1;33m=\u001b[0m \u001b[0mlist\u001b[0m\u001b[1;33m(\u001b[0m\u001b[0mmap\u001b[0m\u001b[1;33m(\u001b[0m\u001b[0mDecimal\u001b[0m\u001b[1;33m,\u001b[0m \u001b[1;34m'2.45 2.69 2.45 3.45 2.00 0.04 7.25'\u001b[0m\u001b[1;33m.\u001b[0m\u001b[0msplit\u001b[0m\u001b[1;33m(\u001b[0m\u001b[1;33m)\u001b[0m\u001b[1;33m)\u001b[0m\u001b[1;33m)\u001b[0m\u001b[1;33m\u001b[0m\u001b[1;33m\u001b[0m\u001b[0m\n\u001b[0m\u001b[0;32m      2\u001b[0m \u001b[0mprint\u001b[0m\u001b[1;33m(\u001b[0m\u001b[1;34m\"Maximum: \"\u001b[0m\u001b[1;33m,\u001b[0m \u001b[0mmax\u001b[0m\u001b[1;33m(\u001b[0m\u001b[0mdata\u001b[0m\u001b[1;33m)\u001b[0m\u001b[1;33m)\u001b[0m\u001b[1;33m\u001b[0m\u001b[1;33m\u001b[0m\u001b[0m\n\u001b[0;32m      3\u001b[0m \u001b[0mprint\u001b[0m\u001b[1;33m(\u001b[0m\u001b[1;34m\"Minimum: \"\u001b[0m\u001b[1;33m,\u001b[0m \u001b[0mmin\u001b[0m\u001b[1;33m(\u001b[0m\u001b[0mdata\u001b[0m\u001b[1;33m)\u001b[0m\u001b[1;33m)\u001b[0m\u001b[1;33m\u001b[0m\u001b[1;33m\u001b[0m\u001b[0m\n",
      "\u001b[1;31mTypeError\u001b[0m: 'list' object is not callable"
     ]
    }
   ],
   "source": [
    "\n",
    "data = list(map(Decimal, '2.45 2.69 2.45 3.45 2.00 0.04 7.25'.split()))\n",
    "print(\"Maximum: \", max(data))\n",
    "print(\"Minimum: \", min(data))\n"
   ]
  },
  {
   "cell_type": "code",
   "execution_count": null,
   "id": "0de01754",
   "metadata": {},
   "outputs": [],
   "source": []
  }
 ],
 "metadata": {
  "kernelspec": {
   "display_name": "Python 3",
   "language": "python",
   "name": "python3"
  },
  "language_info": {
   "codemirror_mode": {
    "name": "ipython",
    "version": 3
   },
   "file_extension": ".py",
   "mimetype": "text/x-python",
   "name": "python",
   "nbconvert_exporter": "python",
   "pygments_lexer": "ipython3",
   "version": "3.8.8"
  }
 },
 "nbformat": 4,
 "nbformat_minor": 5
}
